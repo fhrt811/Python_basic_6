{
 "cells": [
  {
   "cell_type": "code",
   "execution_count": null,
   "id": "3b09fe1d",
   "metadata": {},
   "outputs": [],
   "source": [
    "Q1:\n",
    "What are escape characters, and how do you use them?"
   ]
  },
  {
   "cell_type": "code",
   "execution_count": null,
   "id": "8d2e51e8",
   "metadata": {},
   "outputs": [],
   "source": [
    "Ans1:\n",
    "When a character is need to be inserted in a string which is impossible or difficult to use, an escape character is used.\n",
    "An escape character is a back slash '\\' followed by the character you want to insert.\n",
    "Example: \"My name is \"Faisal Ansari\".\" Will give Syntax Error, to tackle this problem escape character is used.\n",
    "    \"My name is \\\"Faisal Ansari\\\".\""
   ]
  },
  {
   "cell_type": "code",
   "execution_count": null,
   "id": "56a88a76",
   "metadata": {},
   "outputs": [],
   "source": [
    "Q2:\n",
    "What do the escape character n and t stand for?"
   ]
  },
  {
   "cell_type": "code",
   "execution_count": null,
   "id": "bbce5179",
   "metadata": {},
   "outputs": [],
   "source": [
    "Ans2:\n",
    "The escape character \\n stands for new line and scape character \\t stands for a tab."
   ]
  },
  {
   "cell_type": "code",
   "execution_count": null,
   "id": "1b73ae4c",
   "metadata": {},
   "outputs": [],
   "source": [
    "Q3:\n",
    "What is the way to include backslash characters in a string?"
   ]
  },
  {
   "cell_type": "code",
   "execution_count": null,
   "id": "6ac72a6d",
   "metadata": {},
   "outputs": [],
   "source": [
    "Ans3:\n",
    "To include a backslash character in a string \\\\ is used."
   ]
  },
  {
   "cell_type": "code",
   "execution_count": null,
   "id": "0eec0c7f",
   "metadata": {},
   "outputs": [],
   "source": [
    "Q4:\n",
    "The string \"Howl's Moving Castle\" is a correct value. Why isn't a single quote character in the word Howl's not escaped a problem?"
   ]
  },
  {
   "cell_type": "code",
   "execution_count": null,
   "id": "8629e3e1",
   "metadata": {},
   "outputs": [],
   "source": [
    "Ans4:\n",
    "The single quote character in the word Howl's is correct because double quotes are used at the begining and at the end."
   ]
  },
  {
   "cell_type": "code",
   "execution_count": null,
   "id": "3edd619b",
   "metadata": {},
   "outputs": [],
   "source": [
    "Q5:\n",
    "How do you write a string of newlines if you don't want to use the n character?"
   ]
  },
  {
   "cell_type": "code",
   "execution_count": null,
   "id": "83a4e552",
   "metadata": {},
   "outputs": [],
   "source": [
    "Ans5:\n",
    "Multiline strings can be used for this purpose.\n",
    "Example:\n",
    "    \"\"\"My \n",
    "    Name\n",
    "    Is\n",
    "    Faisal Ansari\"\"\" \n",
    "OR\n",
    "    '''I am\n",
    "    Learning\n",
    "    at\n",
    "    iNeuron'''\n",
    "Both are valid"
   ]
  },
  {
   "cell_type": "code",
   "execution_count": null,
   "id": "4ba42469",
   "metadata": {},
   "outputs": [],
   "source": [
    "Q6:\n",
    "What are the values the given expressions?\n",
    "\n",
    "'Hello world!'[1]\n",
    "\n",
    "'Hello world!'[0:5]\n",
    "\n",
    "'Hello world!'[:5]\n",
    "\n",
    "'Hello world!'[3:]"
   ]
  },
  {
   "cell_type": "code",
   "execution_count": null,
   "id": "4e75ba07",
   "metadata": {},
   "outputs": [],
   "source": [
    "Ans6:\n",
    "'Hello world!'[1] - 'e'\n",
    "\n",
    "'Hello world!'[0:5] - 'Hello'\n",
    "\n",
    "'Hello world!'[:5] - 'Hello'\n",
    "\n",
    "'Hello world!'[3:] - 'lo world!'"
   ]
  },
  {
   "cell_type": "code",
   "execution_count": null,
   "id": "cdfbea82",
   "metadata": {},
   "outputs": [],
   "source": [
    "Q7:\n",
    "What are the values of the following expressions?\n",
    "\n",
    "'Hello'.upper()\n",
    "\n",
    "'Hello'.upper().isupper()\n",
    "\n",
    "'Hello'.upper().lower()"
   ]
  },
  {
   "cell_type": "code",
   "execution_count": null,
   "id": "92ec469c",
   "metadata": {},
   "outputs": [],
   "source": [
    "Ans7:\n",
    "'Hello'.upper() - 'HELLO'\n",
    "\n",
    "'Hello'.upper().isupper() - True\n",
    "\n",
    "'Hello'.upper().lower() 'hello'"
   ]
  },
  {
   "cell_type": "code",
   "execution_count": null,
   "id": "580ccfa6",
   "metadata": {},
   "outputs": [],
   "source": [
    "Q8:\n",
    "What are the values of the following expressions?\n",
    "\n",
    "'Remember, remember, the fifth of July.'.split()\n",
    "\n",
    "'-'.join('There can be only one.'.split())"
   ]
  },
  {
   "cell_type": "code",
   "execution_count": null,
   "id": "b6b12724",
   "metadata": {},
   "outputs": [],
   "source": [
    "Ans8:\n",
    "'Remember, remember, the fifth of July.'.split() - ['Remember,', 'remember,', 'the', 'fifth', 'of', 'July.']\n",
    "'-'.join('There can be only one.'.split()) - 'There-can-be-only-one.'"
   ]
  },
  {
   "cell_type": "code",
   "execution_count": null,
   "id": "6e248d47",
   "metadata": {},
   "outputs": [],
   "source": [
    "Q9:\n",
    "What are the methods for right-justifying, left-justifying, and centering a string?"
   ]
  },
  {
   "cell_type": "code",
   "execution_count": null,
   "id": "e0808360",
   "metadata": {},
   "outputs": [],
   "source": [
    "Ans9:\n",
    "Methods for right-justifying, left-justifying, and centering a string are rjust(), ljust() and center() respectively."
   ]
  },
  {
   "cell_type": "code",
   "execution_count": null,
   "id": "04a20e5d",
   "metadata": {},
   "outputs": [],
   "source": [
    "Q10:\n",
    "What is the best way to remove whitespace characters from the start or end?"
   ]
  },
  {
   "cell_type": "code",
   "execution_count": null,
   "id": "77ecca0e",
   "metadata": {},
   "outputs": [],
   "source": [
    "Ans10:\n",
    "To remove the whitespace characters from the start or end use lstrip() and rstrip() reaspectively.\n",
    "strip() is used to remove whitespace characters from both the side together."
   ]
  }
 ],
 "metadata": {
  "kernelspec": {
   "display_name": "Python 3 (ipykernel)",
   "language": "python",
   "name": "python3"
  },
  "language_info": {
   "codemirror_mode": {
    "name": "ipython",
    "version": 3
   },
   "file_extension": ".py",
   "mimetype": "text/x-python",
   "name": "python",
   "nbconvert_exporter": "python",
   "pygments_lexer": "ipython3",
   "version": "3.9.13"
  }
 },
 "nbformat": 4,
 "nbformat_minor": 5
}
